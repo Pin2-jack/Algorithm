{
  "cells": [
    {
      "cell_type": "code",
      "execution_count": null,
      "id": "b4dbefb6",
      "metadata": {
        "id": "b4dbefb6"
      },
      "outputs": [],
      "source": [
        "d1 = [1,4,5,7,8,9]"
      ]
    },
    {
      "cell_type": "code",
      "execution_count": null,
      "id": "843bb6f2",
      "metadata": {
        "id": "843bb6f2"
      },
      "outputs": [],
      "source": [
        "l = len(d1)-1\n",
        "for i in range(len(d1)//2):\n",
        "    d1[i],d1[l-i] = d1[l-i],d1[i]"
      ]
    },
    {
      "cell_type": "code",
      "execution_count": null,
      "id": "6bbde1ec",
      "metadata": {
        "id": "6bbde1ec",
        "outputId": "ae6f209b-ed02-48e0-dffc-26854b1fe5d3"
      },
      "outputs": [
        {
          "data": {
            "text/plain": [
              "[9, 8, 7, 5, 4, 1]"
            ]
          },
          "execution_count": 67,
          "metadata": {},
          "output_type": "execute_result"
        }
      ],
      "source": [
        "d1"
      ]
    },
    {
      "cell_type": "code",
      "execution_count": null,
      "id": "7a458985",
      "metadata": {
        "id": "7a458985"
      },
      "outputs": [],
      "source": [
        "d2=[2,3,6,10]"
      ]
    },
    {
      "cell_type": "code",
      "execution_count": null,
      "id": "6ad7e76c",
      "metadata": {
        "id": "6ad7e76c"
      },
      "outputs": [],
      "source": [
        "#Merge Sort"
      ]
    },
    {
      "cell_type": "code",
      "execution_count": null,
      "id": "3dd42de1",
      "metadata": {
        "id": "3dd42de1"
      },
      "outputs": [],
      "source": [
        "def merge(d1,d2):\n",
        "    l = []\n",
        "    \n",
        "    while len(d1) > 0 or len(d2)> 0:\n",
        "        try:\n",
        "            if d1[0] > d2[0]:\n",
        "                l.append(d2[0])\n",
        "                d2.pop(0)\n",
        "            else:\n",
        "                l.append(d1[0])\n",
        "                d1.pop(0)\n",
        "        except:\n",
        "            if len(d1) == 0 :\n",
        "                l.extend(d2)\n",
        "                d2 = []\n",
        "            else:\n",
        "                l.extend(d1)\n",
        "                d1 = []\n",
        "    return l"
      ]
    },
    {
      "cell_type": "code",
      "execution_count": null,
      "id": "ebc79151",
      "metadata": {
        "id": "ebc79151",
        "outputId": "c1b0de22-0528-4a6c-9444-db6ac45351d2"
      },
      "outputs": [
        {
          "data": {
            "text/plain": [
              "[1, 2, 3, 4, 5, 6, 7, 8, 9]"
            ]
          },
          "execution_count": 31,
          "metadata": {},
          "output_type": "execute_result"
        }
      ],
      "source": [
        "merge(d1,d2)"
      ]
    },
    {
      "cell_type": "code",
      "execution_count": null,
      "id": "6a673669",
      "metadata": {
        "id": "6a673669"
      },
      "outputs": [],
      "source": [
        "def merge_sort(d1,d2):\n",
        "    l=[]\n",
        "    i,j=0,0\n",
        "    len_i,len_j = len(d1)-1,len(d2)-1\n",
        "    while(j>=0 or i>=0):\n",
        "#         print(i,j)\n",
        "        if(d1[i]>d2[j]):\n",
        "            l.append(d2[j])\n",
        "            j-=1\n",
        "        elif d1[i]<d2[j]:\n",
        "            l.append(d1[i])\n",
        "            i-=1\n",
        "        else:\n",
        "            l.append(d1[i])\n",
        "            i-=1\n",
        "    return l"
      ]
    },
    {
      "cell_type": "code",
      "execution_count": null,
      "id": "2fc11c21",
      "metadata": {
        "id": "2fc11c21",
        "outputId": "37852b9e-e86c-4654-c45f-2bc544ac2d47"
      },
      "outputs": [
        {
          "ename": "IndexError",
          "evalue": "list index out of range",
          "output_type": "error",
          "traceback": [
            "\u001b[1;31m---------------------------------------------------------------------------\u001b[0m",
            "\u001b[1;31mIndexError\u001b[0m                                Traceback (most recent call last)",
            "\u001b[1;32m~\\AppData\\Local\\Temp/ipykernel_9592/790106802.py\u001b[0m in \u001b[0;36m<module>\u001b[1;34m\u001b[0m\n\u001b[1;32m----> 1\u001b[1;33m \u001b[0mmerge_sort\u001b[0m\u001b[1;33m(\u001b[0m\u001b[0md1\u001b[0m\u001b[1;33m,\u001b[0m\u001b[0md2\u001b[0m\u001b[1;33m)\u001b[0m\u001b[1;33m\u001b[0m\u001b[1;33m\u001b[0m\u001b[0m\n\u001b[0m",
            "\u001b[1;32m~\\AppData\\Local\\Temp/ipykernel_9592/3449939060.py\u001b[0m in \u001b[0;36mmerge_sort\u001b[1;34m(d1, d2)\u001b[0m\n\u001b[0;32m      4\u001b[0m     \u001b[1;32mwhile\u001b[0m\u001b[1;33m(\u001b[0m\u001b[0mj\u001b[0m\u001b[1;33m>=\u001b[0m\u001b[1;36m0\u001b[0m \u001b[1;32mor\u001b[0m \u001b[0mi\u001b[0m\u001b[1;33m>=\u001b[0m\u001b[1;36m0\u001b[0m\u001b[1;33m)\u001b[0m\u001b[1;33m:\u001b[0m\u001b[1;33m\u001b[0m\u001b[1;33m\u001b[0m\u001b[0m\n\u001b[0;32m      5\u001b[0m \u001b[1;31m#         print(i,j)\u001b[0m\u001b[1;33m\u001b[0m\u001b[1;33m\u001b[0m\u001b[1;33m\u001b[0m\u001b[0m\n\u001b[1;32m----> 6\u001b[1;33m         \u001b[1;32mif\u001b[0m\u001b[1;33m(\u001b[0m\u001b[0md1\u001b[0m\u001b[1;33m[\u001b[0m\u001b[0mi\u001b[0m\u001b[1;33m]\u001b[0m\u001b[1;33m>\u001b[0m\u001b[0md2\u001b[0m\u001b[1;33m[\u001b[0m\u001b[0mj\u001b[0m\u001b[1;33m]\u001b[0m\u001b[1;33m)\u001b[0m\u001b[1;33m:\u001b[0m\u001b[1;33m\u001b[0m\u001b[1;33m\u001b[0m\u001b[0m\n\u001b[0m\u001b[0;32m      7\u001b[0m             \u001b[0ml\u001b[0m\u001b[1;33m.\u001b[0m\u001b[0mappend\u001b[0m\u001b[1;33m(\u001b[0m\u001b[0md2\u001b[0m\u001b[1;33m[\u001b[0m\u001b[0mj\u001b[0m\u001b[1;33m]\u001b[0m\u001b[1;33m)\u001b[0m\u001b[1;33m\u001b[0m\u001b[1;33m\u001b[0m\u001b[0m\n\u001b[0;32m      8\u001b[0m \u001b[1;33m\u001b[0m\u001b[0m\n",
            "\u001b[1;31mIndexError\u001b[0m: list index out of range"
          ]
        }
      ],
      "source": [
        "merge_sort(d1,d2)"
      ]
    },
    {
      "cell_type": "code",
      "execution_count": null,
      "id": "a801ab62",
      "metadata": {
        "id": "a801ab62"
      },
      "outputs": [],
      "source": [
        "def merge_sort(d1):\n",
        "    if(len(d1))<=1:\n",
        "        return d1\n",
        "    mid=len(d1)//2\n",
        "    left=d1[:mid]\n",
        "    right=d1[mid:]\n",
        "    \n",
        "    left_merge = merge_sort(left)\n",
        "    right_merge=merge_sort(right)\n",
        "    \n",
        "    l = merge(left_merge,right_merge)\n",
        "    return l"
      ]
    },
    {
      "cell_type": "code",
      "execution_count": null,
      "id": "246fe31c",
      "metadata": {
        "id": "246fe31c",
        "outputId": "cfaab0e6-14a7-4d62-d8af-99a748d59c4a"
      },
      "outputs": [
        {
          "data": {
            "text/plain": [
              "[1, 4, 5, 7, 8, 9]"
            ]
          },
          "execution_count": 73,
          "metadata": {},
          "output_type": "execute_result"
        }
      ],
      "source": [
        "d=merge_sort(d1)\n",
        "d"
      ]
    },
    {
      "cell_type": "code",
      "execution_count": null,
      "id": "e2b269ff",
      "metadata": {
        "id": "e2b269ff",
        "outputId": "11ae1dc9-167d-4010-b6ce-e596b94c3901"
      },
      "outputs": [
        {
          "data": {
            "text/plain": [
              "[0, 2, 5, 6, 8]"
            ]
          },
          "execution_count": 61,
          "metadata": {},
          "output_type": "execute_result"
        }
      ],
      "source": [
        "#Binary Sort"
      ]
    },
    {
      "cell_type": "code",
      "execution_count": null,
      "id": "703d531b",
      "metadata": {
        "id": "703d531b"
      },
      "outputs": [],
      "source": [
        "def binary_search(d,target):\n",
        "    mid=len(d)//2\n",
        "    \n",
        "    if(len(d)==1):\n",
        "        if(d[mid]!=target):\n",
        "            print(\"No Element found\")\n",
        "            return -1\n",
        "        return mid\n",
        "    else:\n",
        "        if(d[mid]==target):\n",
        "            return mid\n",
        "        elif (d[mid]<target):\n",
        "            d=d[mid:]\n",
        "            return mid+binary_search(d,target)\n",
        "        else:\n",
        "            d=d[:mid]\n",
        "            return binary_search(d,target)\n",
        "    "
      ]
    },
    {
      "cell_type": "code",
      "execution_count": null,
      "id": "c63e56b6",
      "metadata": {
        "id": "c63e56b6"
      },
      "outputs": [],
      "source": [
        "binary=binary_search([5,10,11,12,15],12)"
      ]
    },
    {
      "cell_type": "code",
      "execution_count": null,
      "id": "a92c1805",
      "metadata": {
        "id": "a92c1805",
        "outputId": "dbdde0d5-e6d1-40be-f15a-3588c91233d1"
      },
      "outputs": [
        {
          "data": {
            "text/plain": [
              "3"
            ]
          },
          "execution_count": 87,
          "metadata": {},
          "output_type": "execute_result"
        }
      ],
      "source": [
        "binary"
      ]
    },
    {
      "cell_type": "code",
      "execution_count": null,
      "id": "4870b167",
      "metadata": {
        "id": "4870b167"
      },
      "outputs": [],
      "source": [
        "class node:\n",
        "    def __init__(self,data):\n",
        "        self.data=data\n",
        "        self.next=None\n",
        "    def connect_node(self,node):\n",
        "        self.next=node\n",
        "    "
      ]
    },
    {
      "cell_type": "code",
      "execution_count": null,
      "id": "c64875a1",
      "metadata": {
        "id": "c64875a1"
      },
      "outputs": [],
      "source": [
        "a = node(5)\n",
        "b = node(7)\n",
        "c = node(10)"
      ]
    },
    {
      "cell_type": "code",
      "execution_count": null,
      "id": "c90e8c4f",
      "metadata": {
        "id": "c90e8c4f",
        "outputId": "07166d61-09aa-4502-9801-9c2100c6706c"
      },
      "outputs": [
        {
          "data": {
            "text/plain": [
              "(<__main__.node at 0x2bc2cbef648>,\n",
              " <__main__.node at 0x2bc2cbeedc8>,\n",
              " <__main__.node at 0x2bc2cbeef08>)"
            ]
          },
          "execution_count": 90,
          "metadata": {},
          "output_type": "execute_result"
        }
      ],
      "source": [
        "a,b,c"
      ]
    },
    {
      "cell_type": "code",
      "execution_count": null,
      "id": "1725e82c",
      "metadata": {
        "id": "1725e82c",
        "outputId": "3545fec0-f479-4fa1-f5aa-51576050d14e"
      },
      "outputs": [
        {
          "name": "stdout",
          "output_type": "stream",
          "text": [
            "5 None\n"
          ]
        }
      ],
      "source": [
        "print(a.data,a.next)"
      ]
    },
    {
      "cell_type": "code",
      "execution_count": null,
      "id": "85f0c634",
      "metadata": {
        "id": "85f0c634",
        "outputId": "bea3bb55-f1de-41fc-f336-cf5c15484387"
      },
      "outputs": [
        {
          "name": "stdout",
          "output_type": "stream",
          "text": [
            "7 None\n"
          ]
        }
      ],
      "source": [
        "print(b.data,b.next)"
      ]
    },
    {
      "cell_type": "code",
      "execution_count": null,
      "id": "b8913371",
      "metadata": {
        "id": "b8913371",
        "outputId": "aaac4965-dec2-4647-bd02-e3b76eaa89ed"
      },
      "outputs": [
        {
          "name": "stdout",
          "output_type": "stream",
          "text": [
            "10 None\n"
          ]
        }
      ],
      "source": [
        "print(c.data,c.next)"
      ]
    },
    {
      "cell_type": "code",
      "execution_count": null,
      "id": "ddd9b881",
      "metadata": {
        "id": "ddd9b881"
      },
      "outputs": [],
      "source": [
        "a.connect_node(b)"
      ]
    },
    {
      "cell_type": "code",
      "execution_count": null,
      "id": "d446cbed",
      "metadata": {
        "id": "d446cbed",
        "outputId": "6c9f4528-fd66-42cf-b0c0-fda77df08063"
      },
      "outputs": [
        {
          "name": "stdout",
          "output_type": "stream",
          "text": [
            "5 <__main__.node object at 0x000002BC2CBEEDC8>\n"
          ]
        }
      ],
      "source": [
        "print(a.data,a.next)"
      ]
    },
    {
      "cell_type": "code",
      "execution_count": null,
      "id": "88021864",
      "metadata": {
        "id": "88021864"
      },
      "outputs": [],
      "source": [
        "class tree_node:\n",
        "    def __init__(self,data):\n",
        "        self.data=data\n",
        "        self.left_child,self.right_child= None,None\n",
        "    def add_left_child(self,treeNODE):\n",
        "        self.left_child = treeNODE\n",
        "    def add_right_child(self,treeNODE):\n",
        "        self.right_child = treeNODE\n",
        "    def print_node(node):\n",
        "        print(node.data)\n",
        "    def post_traverse(root_node:tree_node):\n",
        "        if root_node== None:\n",
        "            return\n",
        "        tree_node.post_traverse(root_node.left_child)\n",
        "        tree_node.post_traverse(root_node.right_child)\n",
        "        tree_node.print_node(root_node)\n",
        "    def pre_traverse(root_node:tree_node):\n",
        "        if root_node== None:\n",
        "            return\n",
        "#Below 2 lines only for DFS\n",
        "        # if root_node.data=target:\n",
        "        #     return 1\n",
        "        tree_node.print_node(root_node)\n",
        "        tree_node.pre_traverse(root_node.left_child)\n",
        "        tree_node.pre_traverse(root_node.right_child)\n",
        "    def in_order_traverse(root_node:tree_node):\n",
        "        if root_node== None:\n",
        "            return\n",
        "        tree_node.in_order_traverse(root_node.left_child)\n",
        "        tree_node.print_node(root_node)\n",
        "        tree_node.in_order_traverse(root_node.right_child)\n",
        "        \n",
        "        \n",
        "    \n",
        "    "
      ]
    },
    {
      "cell_type": "code",
      "execution_count": null,
      "id": "350f57ce",
      "metadata": {
        "id": "350f57ce"
      },
      "outputs": [],
      "source": [
        "x,y,z = tree_node(1),tree_node(5),tree_node(9)"
      ]
    },
    {
      "cell_type": "code",
      "execution_count": null,
      "id": "c91a5129",
      "metadata": {
        "id": "c91a5129",
        "outputId": "499d72e0-133b-4d89-a950-475fefa5cf08"
      },
      "outputs": [
        {
          "data": {
            "text/plain": [
              "(<__main__.tree_node at 0x2bc2cbf8bc8>,\n",
              " <__main__.tree_node at 0x2bc2cc18348>,\n",
              " <__main__.tree_node at 0x2bc2cc18ac8>)"
            ]
          },
          "execution_count": 140,
          "metadata": {},
          "output_type": "execute_result"
        }
      ],
      "source": [
        "x,y,z"
      ]
    },
    {
      "cell_type": "code",
      "execution_count": null,
      "id": "b0703c75",
      "metadata": {
        "id": "b0703c75",
        "outputId": "433d9920-9cae-44fc-f326-d3fdbfbfdcf5"
      },
      "outputs": [
        {
          "name": "stdout",
          "output_type": "stream",
          "text": [
            "1 None None\n"
          ]
        }
      ],
      "source": [
        "print(x.data,x.left_child,x.right_child)"
      ]
    },
    {
      "cell_type": "code",
      "execution_count": null,
      "id": "fc7d9ea5",
      "metadata": {
        "id": "fc7d9ea5"
      },
      "outputs": [],
      "source": [
        "x.add_left_child(y)"
      ]
    },
    {
      "cell_type": "code",
      "execution_count": null,
      "id": "566d473a",
      "metadata": {
        "id": "566d473a",
        "outputId": "86924982-0cda-4394-eaea-d155fc22d898"
      },
      "outputs": [
        {
          "name": "stdout",
          "output_type": "stream",
          "text": [
            "1 <__main__.tree_node object at 0x000002BC2CC18348> None\n"
          ]
        }
      ],
      "source": [
        "print(x.data,x.left_child,x.right_child)"
      ]
    },
    {
      "cell_type": "code",
      "execution_count": null,
      "id": "f53ff98c",
      "metadata": {
        "id": "f53ff98c"
      },
      "outputs": [],
      "source": [
        "y.add_right_child(z)"
      ]
    },
    {
      "cell_type": "code",
      "execution_count": null,
      "id": "75067288",
      "metadata": {
        "id": "75067288",
        "outputId": "02f937fb-a5ab-4429-bfd5-2dedfad59fee"
      },
      "outputs": [
        {
          "name": "stdout",
          "output_type": "stream",
          "text": [
            "5 None <__main__.tree_node object at 0x000002BC2CC18AC8>\n"
          ]
        }
      ],
      "source": [
        "print(y.data,y.left_child,y.right_child)"
      ]
    },
    {
      "cell_type": "code",
      "execution_count": null,
      "id": "266ea397",
      "metadata": {
        "id": "266ea397",
        "outputId": "3e756bfa-625f-40c3-9bd0-f5d381a3a48c"
      },
      "outputs": [
        {
          "name": "stdout",
          "output_type": "stream",
          "text": [
            "9\n",
            "5\n",
            "1\n"
          ]
        }
      ],
      "source": [
        "tree_node.post_traverse(x)"
      ]
    },
    {
      "cell_type": "code",
      "execution_count": null,
      "id": "d079af87",
      "metadata": {
        "id": "d079af87",
        "outputId": "abab9f5a-ad57-4b89-dcfb-c389fd933d66"
      },
      "outputs": [
        {
          "name": "stdout",
          "output_type": "stream",
          "text": [
            "1\n",
            "5\n",
            "9\n"
          ]
        }
      ],
      "source": [
        "tree_node.pre_traverse(x)"
      ]
    },
    {
      "cell_type": "code",
      "execution_count": null,
      "id": "ca4f9014",
      "metadata": {
        "id": "ca4f9014",
        "outputId": "528613fb-8afc-4270-9ae7-7e6af61683b4"
      },
      "outputs": [
        {
          "name": "stdout",
          "output_type": "stream",
          "text": [
            "5\n",
            "9\n",
            "1\n"
          ]
        }
      ],
      "source": [
        "tree_node.in_order_traverse(x)"
      ]
    },
    {
      "cell_type": "code",
      "execution_count": null,
      "id": "355d1f07",
      "metadata": {
        "id": "355d1f07"
      },
      "outputs": [],
      "source": [
        ""
      ]
    }
  ],
  "metadata": {
    "kernelspec": {
      "display_name": "Python 3 (ipykernel)",
      "language": "python",
      "name": "python3"
    },
    "language_info": {
      "codemirror_mode": {
        "name": "ipython",
        "version": 3
      },
      "file_extension": ".py",
      "mimetype": "text/x-python",
      "name": "python",
      "nbconvert_exporter": "python",
      "pygments_lexer": "ipython3",
      "version": "3.7.11"
    },
    "colab": {
      "name": "Algorithm.ipynb",
      "provenance": [],
      "collapsed_sections": []
    }
  },
  "nbformat": 4,
  "nbformat_minor": 5
}